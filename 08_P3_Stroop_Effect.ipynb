{
 "cells": [
  {
   "cell_type": "markdown",
   "metadata": {},
   "source": [
    "## Test a Perceptual Phenomenon: Stroop Effect "
   ]
  },
  {
   "cell_type": "code",
   "execution_count": 1,
   "metadata": {
    "collapsed": true
   },
   "outputs": [],
   "source": [
    "import pandas as pd\n",
    "import matplotlib.pyplot as plt\n",
    "import seaborn as sns\n",
    "import numpy as np\n",
    "from scipy import stats\n",
    "%matplotlib inline\n"
   ]
  },
  {
   "cell_type": "markdown",
   "metadata": {},
   "source": [
    "### Overview"
   ]
  },
  {
   "cell_type": "code",
   "execution_count": 2,
   "metadata": {},
   "outputs": [
    {
     "data": {
      "text/html": [
       "<div>\n",
       "<style>\n",
       "    .dataframe thead tr:only-child th {\n",
       "        text-align: right;\n",
       "    }\n",
       "\n",
       "    .dataframe thead th {\n",
       "        text-align: left;\n",
       "    }\n",
       "\n",
       "    .dataframe tbody tr th {\n",
       "        vertical-align: top;\n",
       "    }\n",
       "</style>\n",
       "<table border=\"1\" class=\"dataframe\">\n",
       "  <thead>\n",
       "    <tr style=\"text-align: right;\">\n",
       "      <th></th>\n",
       "      <th>Congruent</th>\n",
       "      <th>Incongruent</th>\n",
       "    </tr>\n",
       "  </thead>\n",
       "  <tbody>\n",
       "    <tr>\n",
       "      <th>0</th>\n",
       "      <td>12.079</td>\n",
       "      <td>19.278</td>\n",
       "    </tr>\n",
       "    <tr>\n",
       "      <th>1</th>\n",
       "      <td>16.791</td>\n",
       "      <td>18.741</td>\n",
       "    </tr>\n",
       "    <tr>\n",
       "      <th>2</th>\n",
       "      <td>9.564</td>\n",
       "      <td>21.214</td>\n",
       "    </tr>\n",
       "    <tr>\n",
       "      <th>3</th>\n",
       "      <td>8.630</td>\n",
       "      <td>15.687</td>\n",
       "    </tr>\n",
       "    <tr>\n",
       "      <th>4</th>\n",
       "      <td>14.669</td>\n",
       "      <td>22.803</td>\n",
       "    </tr>\n",
       "    <tr>\n",
       "      <th>5</th>\n",
       "      <td>12.238</td>\n",
       "      <td>20.878</td>\n",
       "    </tr>\n",
       "    <tr>\n",
       "      <th>6</th>\n",
       "      <td>14.692</td>\n",
       "      <td>24.572</td>\n",
       "    </tr>\n",
       "    <tr>\n",
       "      <th>7</th>\n",
       "      <td>8.987</td>\n",
       "      <td>17.394</td>\n",
       "    </tr>\n",
       "    <tr>\n",
       "      <th>8</th>\n",
       "      <td>9.401</td>\n",
       "      <td>20.762</td>\n",
       "    </tr>\n",
       "    <tr>\n",
       "      <th>9</th>\n",
       "      <td>14.480</td>\n",
       "      <td>26.282</td>\n",
       "    </tr>\n",
       "    <tr>\n",
       "      <th>10</th>\n",
       "      <td>22.328</td>\n",
       "      <td>24.524</td>\n",
       "    </tr>\n",
       "    <tr>\n",
       "      <th>11</th>\n",
       "      <td>15.298</td>\n",
       "      <td>18.644</td>\n",
       "    </tr>\n",
       "    <tr>\n",
       "      <th>12</th>\n",
       "      <td>15.073</td>\n",
       "      <td>17.510</td>\n",
       "    </tr>\n",
       "    <tr>\n",
       "      <th>13</th>\n",
       "      <td>16.929</td>\n",
       "      <td>20.330</td>\n",
       "    </tr>\n",
       "    <tr>\n",
       "      <th>14</th>\n",
       "      <td>18.200</td>\n",
       "      <td>35.255</td>\n",
       "    </tr>\n",
       "    <tr>\n",
       "      <th>15</th>\n",
       "      <td>12.130</td>\n",
       "      <td>22.158</td>\n",
       "    </tr>\n",
       "    <tr>\n",
       "      <th>16</th>\n",
       "      <td>18.495</td>\n",
       "      <td>25.139</td>\n",
       "    </tr>\n",
       "    <tr>\n",
       "      <th>17</th>\n",
       "      <td>10.639</td>\n",
       "      <td>20.429</td>\n",
       "    </tr>\n",
       "    <tr>\n",
       "      <th>18</th>\n",
       "      <td>11.344</td>\n",
       "      <td>17.425</td>\n",
       "    </tr>\n",
       "    <tr>\n",
       "      <th>19</th>\n",
       "      <td>12.369</td>\n",
       "      <td>34.288</td>\n",
       "    </tr>\n",
       "    <tr>\n",
       "      <th>20</th>\n",
       "      <td>12.944</td>\n",
       "      <td>23.894</td>\n",
       "    </tr>\n",
       "    <tr>\n",
       "      <th>21</th>\n",
       "      <td>14.233</td>\n",
       "      <td>17.960</td>\n",
       "    </tr>\n",
       "    <tr>\n",
       "      <th>22</th>\n",
       "      <td>19.710</td>\n",
       "      <td>22.058</td>\n",
       "    </tr>\n",
       "    <tr>\n",
       "      <th>23</th>\n",
       "      <td>16.004</td>\n",
       "      <td>21.157</td>\n",
       "    </tr>\n",
       "  </tbody>\n",
       "</table>\n",
       "</div>"
      ],
      "text/plain": [
       "    Congruent  Incongruent\n",
       "0      12.079       19.278\n",
       "1      16.791       18.741\n",
       "2       9.564       21.214\n",
       "3       8.630       15.687\n",
       "4      14.669       22.803\n",
       "5      12.238       20.878\n",
       "6      14.692       24.572\n",
       "7       8.987       17.394\n",
       "8       9.401       20.762\n",
       "9      14.480       26.282\n",
       "10     22.328       24.524\n",
       "11     15.298       18.644\n",
       "12     15.073       17.510\n",
       "13     16.929       20.330\n",
       "14     18.200       35.255\n",
       "15     12.130       22.158\n",
       "16     18.495       25.139\n",
       "17     10.639       20.429\n",
       "18     11.344       17.425\n",
       "19     12.369       34.288\n",
       "20     12.944       23.894\n",
       "21     14.233       17.960\n",
       "22     19.710       22.058\n",
       "23     16.004       21.157"
      ]
     },
     "execution_count": 2,
     "metadata": {},
     "output_type": "execute_result"
    }
   ],
   "source": [
    "data = pd.read_csv('stroopdata.csv')\n",
    "data"
   ]
  },
  {
   "cell_type": "code",
   "execution_count": 3,
   "metadata": {},
   "outputs": [
    {
     "data": {
      "text/plain": [
       "<matplotlib.axes._subplots.AxesSubplot at 0x11623e4a8>"
      ]
     },
     "execution_count": 3,
     "metadata": {},
     "output_type": "execute_result"
    },
    {
     "data": {
      "image/png": "[encoded data removed]",
      "text/plain": [
       "<matplotlib.figure.Figure at 0x10b5f6400>"
      ]
     },
     "metadata": {},
     "output_type": "display_data"
    }
   ],
   "source": [
    "sns.distplot(data['Congruent'])"
   ]
  },
  {
   "cell_type": "code",
   "execution_count": 4,
   "metadata": {},
   "outputs": [
    {
     "data": {
      "text/plain": [
       "<matplotlib.axes._subplots.AxesSubplot at 0x116589a58>"
      ]
     },
     "execution_count": 4,
     "metadata": {},
     "output_type": "execute_result"
    },
    {
     "data": {
      "image/png": "[encoded data removed]",
      "text/plain": [
       "<matplotlib.figure.Figure at 0x1165bd278>"
      ]
     },
     "metadata": {},
     "output_type": "display_data"
    }
   ],
   "source": [
    "sns.distplot(data['Incongruent'])"
   ]
  },
  {
   "cell_type": "markdown",
   "metadata": {},
   "source": [
    "### Descriptive Statistics"
   ]
  },
  {
   "cell_type": "markdown",
   "metadata": {},
   "source": [
    "- The Mean, Std, min, max"
   ]
  },
  {
   "cell_type": "code",
   "execution_count": 5,
   "metadata": {},
   "outputs": [
    {
     "data": {
      "text/html": [
       "<div>\n",
       "<style>\n",
       "    .dataframe thead tr:only-child th {\n",
       "        text-align: right;\n",
       "    }\n",
       "\n",
       "    .dataframe thead th {\n",
       "        text-align: left;\n",
       "    }\n",
       "\n",
       "    .dataframe tbody tr th {\n",
       "        vertical-align: top;\n",
       "    }\n",
       "</style>\n",
       "<table border=\"1\" class=\"dataframe\">\n",
       "  <thead>\n",
       "    <tr style=\"text-align: right;\">\n",
       "      <th></th>\n",
       "      <th>Congruent</th>\n",
       "      <th>Incongruent</th>\n",
       "    </tr>\n",
       "  </thead>\n",
       "  <tbody>\n",
       "    <tr>\n",
       "      <th>count</th>\n",
       "      <td>24.000000</td>\n",
       "      <td>24.000000</td>\n",
       "    </tr>\n",
       "    <tr>\n",
       "      <th>mean</th>\n",
       "      <td>14.051125</td>\n",
       "      <td>22.015917</td>\n",
       "    </tr>\n",
       "    <tr>\n",
       "      <th>std</th>\n",
       "      <td>3.559358</td>\n",
       "      <td>4.797057</td>\n",
       "    </tr>\n",
       "    <tr>\n",
       "      <th>min</th>\n",
       "      <td>8.630000</td>\n",
       "      <td>15.687000</td>\n",
       "    </tr>\n",
       "    <tr>\n",
       "      <th>25%</th>\n",
       "      <td>11.895250</td>\n",
       "      <td>18.716750</td>\n",
       "    </tr>\n",
       "    <tr>\n",
       "      <th>50%</th>\n",
       "      <td>14.356500</td>\n",
       "      <td>21.017500</td>\n",
       "    </tr>\n",
       "    <tr>\n",
       "      <th>75%</th>\n",
       "      <td>16.200750</td>\n",
       "      <td>24.051500</td>\n",
       "    </tr>\n",
       "    <tr>\n",
       "      <th>max</th>\n",
       "      <td>22.328000</td>\n",
       "      <td>35.255000</td>\n",
       "    </tr>\n",
       "  </tbody>\n",
       "</table>\n",
       "</div>"
      ],
      "text/plain": [
       "       Congruent  Incongruent\n",
       "count  24.000000    24.000000\n",
       "mean   14.051125    22.015917\n",
       "std     3.559358     4.797057\n",
       "min     8.630000    15.687000\n",
       "25%    11.895250    18.716750\n",
       "50%    14.356500    21.017500\n",
       "75%    16.200750    24.051500\n",
       "max    22.328000    35.255000"
      ]
     },
     "execution_count": 5,
     "metadata": {},
     "output_type": "execute_result"
    }
   ],
   "source": [
    "data.describe()"
   ]
  },
  {
   "cell_type": "markdown",
   "metadata": {},
   "source": [
    "- The Median"
   ]
  },
  {
   "cell_type": "code",
   "execution_count": 11,
   "metadata": {},
   "outputs": [
    {
     "name": "stdout",
     "output_type": "stream",
     "text": [
      "The Median of Congruent:  14.3565\n",
      "The Median of Incongruent:  21.0175\n"
     ]
    }
   ],
   "source": [
    "CongruentMedian = np.median(data['Congruent'])\n",
    "print('The Median of Congruent: ', CongruentMedian)\n",
    "IncongruentMedian = np.median(data['Incongruent'])\n",
    "print('The Median of Incongruent: ', IncongruentMedian)"
   ]
  },
  {
   "cell_type": "markdown",
   "metadata": {},
   "source": [
    "- The Variance"
   ]
  },
  {
   "cell_type": "code",
   "execution_count": 13,
   "metadata": {},
   "outputs": [
    {
     "name": "stdout",
     "output_type": "stream",
     "text": [
      "The Variance of Congruent:  12.669029070652174\n",
      "The Variance of Incongruent:  23.011757036231884\n"
     ]
    }
   ],
   "source": [
    "# numpy calculates the population standard deviation by default.\n",
    "# To calculate the sample standard deviation, we have to include a parameter: ddof =1\n",
    "\n",
    "VarianceCongruent = np.var(data['Congruent'], ddof = 1)\n",
    "print('The Variance of Congruent: ', VarianceCongruent)\n",
    "VarianceIncongruent = np.var(data['Incongruent'], ddof = 1)\n",
    "print('The Variance of Incongruent: ', VarianceIncongruent)"
   ]
  },
  {
   "cell_type": "markdown",
   "metadata": {},
   "source": [
    "- The Skewness"
   ]
  },
  {
   "cell_type": "code",
   "execution_count": 14,
   "metadata": {},
   "outputs": [
    {
     "name": "stdout",
     "output_type": "stream",
     "text": [
      "The Skew of Congruent:  0.3903776149050634\n",
      "The Skew of Incongruent:  1.4491357281474857\n"
     ]
    }
   ],
   "source": [
    "import scipy.stats as sp\n",
    "CongruentSkew = sp.skew(data['Congruent'])\n",
    "print('The Skew of Congruent: ', CongruentSkew)\n",
    "IncongruentSkew = sp.skew(data['Incongruent'])\n",
    "print('The Skew of Incongruent: ', IncongruentSkew)"
   ]
  },
  {
   "cell_type": "markdown",
   "metadata": {},
   "source": [
    "### Visualizing data distribution "
   ]
  },
  {
   "cell_type": "code",
   "execution_count": 15,
   "metadata": {},
   "outputs": [
    {
     "data": {
      "text/plain": [
       "<matplotlib.axes._subplots.AxesSubplot at 0x116699400>"
      ]
     },
     "execution_count": 15,
     "metadata": {},
     "output_type": "execute_result"
    },
    {
     "data": {
      "image/png": "[encoded data removed]",
      "text/plain": [
       "<matplotlib.figure.Figure at 0x1167214a8>"
      ]
     },
     "metadata": {},
     "output_type": "display_data"
    }
   ],
   "source": [
    "sns.kdeplot(data['Congruent'], shade=True)\n",
    "sns.kdeplot(data['Incongruent'],shade=True)"
   ]
  },
  {
   "cell_type": "code",
   "execution_count": 16,
   "metadata": {},
   "outputs": [
    {
     "data": {
      "image/png": "[encoded data removed]",
      "text/plain": [
       "<matplotlib.figure.Figure at 0x11692cc18>"
      ]
     },
     "metadata": {},
     "output_type": "display_data"
    }
   ],
   "source": [
    "ax = sns.boxplot(data=data)"
   ]
  },
  {
   "cell_type": "markdown",
   "metadata": {},
   "source": [
    "### Results\n"
   ]
  },
  {
   "cell_type": "markdown",
   "metadata": {},
   "source": [
    "- T-statistics and P-value"
   ]
  },
  {
   "cell_type": "code",
   "execution_count": 20,
   "metadata": {},
   "outputs": [
    {
     "name": "stdout",
     "output_type": "stream",
     "text": [
      "The T-statistics value is:  -8.02070694411\n",
      "The P-value is:  4.10300058571e-08\n"
     ]
    }
   ],
   "source": [
    "T_value, P_value = stats.ttest_rel(data['Congruent'],data['Incongruent'])\n",
    "print('The T-statistics value is: ', T_value)\n",
    "print('The P-value is: ', P_value)"
   ]
  },
  {
   "cell_type": "code",
   "execution_count": 21,
   "metadata": {},
   "outputs": [
    {
     "data": {
      "text/plain": [
       "0     -7.199\n",
       "1     -1.950\n",
       "2    -11.650\n",
       "3     -7.057\n",
       "4     -8.134\n",
       "5     -8.640\n",
       "6     -9.880\n",
       "7     -8.407\n",
       "8    -11.361\n",
       "9    -11.802\n",
       "10    -2.196\n",
       "11    -3.346\n",
       "12    -2.437\n",
       "13    -3.401\n",
       "14   -17.055\n",
       "15   -10.028\n",
       "16    -6.644\n",
       "17    -9.790\n",
       "18    -6.081\n",
       "19   -21.919\n",
       "20   -10.950\n",
       "21    -3.727\n",
       "22    -2.348\n",
       "23    -5.153\n",
       "dtype: float64"
      ]
     },
     "execution_count": 21,
     "metadata": {},
     "output_type": "execute_result"
    }
   ],
   "source": [
    "# Create the difference between the two conditions\n",
    "difference =  data['Congruent'] - data['Incongruent'] \n",
    "difference"
   ]
  },
  {
   "cell_type": "code",
   "execution_count": 23,
   "metadata": {},
   "outputs": [
    {
     "data": {
      "text/plain": [
       "-7.964791666666667"
      ]
     },
     "execution_count": 23,
     "metadata": {},
     "output_type": "execute_result"
    }
   ],
   "source": [
    "DifferenceMean = np.mean(difference)\n",
    "DifferenceMean"
   ]
  },
  {
   "cell_type": "code",
   "execution_count": 28,
   "metadata": {},
   "outputs": [
    {
     "data": {
      "text/plain": [
       "4.762398030222158"
      ]
     },
     "execution_count": 28,
     "metadata": {},
     "output_type": "execute_result"
    }
   ],
   "source": [
    "DifferenceStd = np.std(difference)\n",
    "DifferenceStd"
   ]
  },
  {
   "cell_type": "markdown",
   "metadata": {},
   "source": [
    "- Cohen's D"
   ]
  },
  {
   "cell_type": "code",
   "execution_count": 25,
   "metadata": {},
   "outputs": [
    {
     "name": "stdout",
     "output_type": "stream",
     "text": [
      "Cohen's d =  -1.63721994912\n"
     ]
    }
   ],
   "source": [
    "# For doing a paired t-test, calculate the standard deviation of the differences first \n",
    "# and then divide the mean difference with this standard deviation value\n",
    "# instead of calculating a pooled standard deviation\n",
    "\n",
    "def CohenEffectSize(group1, group2):\n",
    "\n",
    "    diff = group1 - group2\n",
    "\n",
    "    mean_diff = diff.mean()\n",
    "    var_diff = np.var(diff, ddof = 1)\n",
    "    std_diff = np.sqrt(var_diff) \n",
    "\n",
    "    d = mean_diff / std_diff\n",
    "\n",
    "    return d\n",
    "\n",
    "print(\"Cohen's d = \" , CohenEffectSize(data['Congruent'],data['Incongruent']))"
   ]
  },
  {
   "attachments": {
    "WX20170620-115253.png": {
     "image/png": "[encoded data removed]"
    }
   },
   "cell_type": "markdown",
   "metadata": {},
   "source": [
    "- Confidence Interval\n",
    "![WX20170620-115253.png](attachment:WX20170620-115253.png)"
   ]
  },
  {
   "cell_type": "code",
   "execution_count": 30,
   "metadata": {},
   "outputs": [
    {
     "name": "stdout",
     "output_type": "stream",
     "text": [
      "CI:  -9.97610883049 -5.95347450285\n"
     ]
    }
   ],
   "source": [
    "Upperlimit = DifferenceMean + 2.069*(DifferenceStd/np.sqrt(24))\n",
    "Lowerlimit = DifferenceMean - 2.069*(DifferenceStd/np.sqrt(24))\n",
    "print('CI: ', Lowerlimit, Upperlimit)"
   ]
  },
  {
   "attachments": {
    "WX20170620-121437.png": {
     "image/png": "[encoded data removed]"
    }
   },
   "cell_type": "markdown",
   "metadata": {},
   "source": [
    "- R squared\n",
    "![WX20170620-121437.png](attachment:WX20170620-121437.png)"
   ]
  },
  {
   "cell_type": "code",
   "execution_count": 34,
   "metadata": {},
   "outputs": [
    {
     "name": "stdout",
     "output_type": "stream",
     "text": [
      "R_squared is:  0.736636416145\n"
     ]
    }
   ],
   "source": [
    "R_squared = T_value**2/(T_value**2 + 23)\n",
    "print('R_squared is: ', R_squared)"
   ]
  }
 ],
 "metadata": {
  "kernelspec": {
   "display_name": "Python 3",
   "language": "python",
   "name": "python3"
  },
  "language_info": {
   "codemirror_mode": {
    "name": "ipython",
    "version": 3
   },
   "file_extension": ".py",
   "mimetype": "text/x-python",
   "name": "python",
   "nbconvert_exporter": "python",
   "pygments_lexer": "ipython3",
   "version": "3.6.1"
  }
 },
 "nbformat": 4,
 "nbformat_minor": 2
}
